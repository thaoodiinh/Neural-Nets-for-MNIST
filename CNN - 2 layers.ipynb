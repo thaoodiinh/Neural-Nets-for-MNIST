{
  "nbformat": 4,
  "nbformat_minor": 0,
  "metadata": {
    "colab": {
      "name": "All Deep Learning Models.ipynb",
      "version": "0.3.2",
      "provenance": [],
      "collapsed_sections": []
    },
    "kernelspec": {
      "name": "python3",
      "display_name": "Python 3"
    }
  },
  "cells": [
    {
      "metadata": {
        "id": "z_2aOs0L8V_3",
        "colab_type": "code",
        "outputId": "473d3413-6385-4689-e426-5c884088d441",
        "colab": {
          "base_uri": "https://localhost:8080/",
          "height": 34
        }
      },
      "cell_type": "code",
      "source": [
        "# Install a Drive FUSE wrapper.\n",
        "# https://github.com/astrada/google-drive-ocamlfuse\n",
        "!apt-get install -y -qq software-properties-common python-software-properties module-init-tools\n",
        "!add-apt-repository -y ppa:alessandro-strada/ppa 2>&1 > /dev/null\n",
        "!apt-get update -qq 2>&1 > /dev/null\n",
        "!apt-get -y install -qq google-drive-ocamlfuse fuse"
      ],
      "execution_count": 0,
      "outputs": [
        {
          "output_type": "stream",
          "text": [
            "E: Package 'python-software-properties' has no installation candidate\n"
          ],
          "name": "stdout"
        }
      ]
    },
    {
      "metadata": {
        "id": "itxLflVFzvyo",
        "colab_type": "code",
        "colab": {}
      },
      "cell_type": "code",
      "source": [
        "# Generate auth tokens for Colab\n",
        "from google.colab import auth\n",
        "auth.authenticate_user()"
      ],
      "execution_count": 0,
      "outputs": []
    },
    {
      "metadata": {
        "id": "x9P63kwBzzPy",
        "colab_type": "code",
        "outputId": "4d03c4de-2bf6-48f9-b9a7-dc6cbea28f6d",
        "colab": {
          "base_uri": "https://localhost:8080/",
          "height": 34
        }
      },
      "cell_type": "code",
      "source": [
        "# Generate creds for the Drive FUSE library.\n",
        "from oauth2client.client import GoogleCredentials\n",
        "creds = GoogleCredentials.get_application_default()\n",
        "import getpass\n",
        "!google-drive-ocamlfuse -headless -id={creds.client_id} -secret={creds.client_secret} < /dev/null 2>&1 | grep URL\n",
        "vcode = getpass.getpass()\n",
        "!echo {vcode} | google-drive-ocamlfuse -headless -id={creds.client_id} -secret={creds.client_secret}"
      ],
      "execution_count": 0,
      "outputs": [
        {
          "output_type": "stream",
          "text": [
            "··········\n"
          ],
          "name": "stdout"
        }
      ]
    },
    {
      "metadata": {
        "id": "ofiJ6Yz30E7i",
        "colab_type": "code",
        "outputId": "454e4e94-4e15-4707-8c0a-92121c704e69",
        "colab": {
          "base_uri": "https://localhost:8080/",
          "height": 51
        }
      },
      "cell_type": "code",
      "source": [
        "# Create a directory and mount Google Drive using that directory.\n",
        "!mkdir -p drive\n",
        "!google-drive-ocamlfuse drive"
      ],
      "execution_count": 0,
      "outputs": [
        {
          "output_type": "stream",
          "text": [
            "fuse: mountpoint is not empty\n",
            "fuse: if you are sure this is safe, use the 'nonempty' mount option\n"
          ],
          "name": "stdout"
        }
      ]
    },
    {
      "metadata": {
        "id": "nJMUVmLp0HLT",
        "colab_type": "code",
        "colab": {}
      },
      "cell_type": "code",
      "source": [
        "# http://pytorch.org/\n",
        "from os import path\n",
        "from wheel.pep425tags import get_abbr_impl, get_impl_ver, get_abi_tag\n",
        "platform = '{}{}-{}'.format(get_abbr_impl(), get_impl_ver(), get_abi_tag())\n",
        "\n",
        "accelerator = 'cu80' if path.exists('/opt/bin/nvidia-smi') else 'cpu'\n",
        "\n",
        "!pip install -q http://download.pytorch.org/whl/{accelerator}/torch-0.4.0-{platform}-linux_x86_64.whl torchvision"
      ],
      "execution_count": 0,
      "outputs": []
    },
    {
      "metadata": {
        "id": "EneMMDElRmKN",
        "colab_type": "text"
      },
      "cell_type": "markdown",
      "source": [
        "# **Importing packages for all models**"
      ]
    },
    {
      "metadata": {
        "id": "RNwibkPO004o",
        "colab_type": "code",
        "colab": {}
      },
      "cell_type": "code",
      "source": [
        "import torch\n",
        "import torch.nn as nn\n",
        "import torchvision\n",
        "import torchvision.transforms as transforms\n",
        "import numpy as np\n",
        "import matplotlib.pyplot as plt\n",
        "from sklearn.metrics import confusion_matrix\n",
        "import seaborn as sn\n",
        "import pandas as pd\n",
        "import time"
      ],
      "execution_count": 0,
      "outputs": []
    },
    {
      "metadata": {
        "id": "n2OIocfiK2Xj",
        "colab_type": "code",
        "colab": {}
      },
      "cell_type": "code",
      "source": [
        "# Device configuration\n",
        "device = torch.device('cuda:0' if torch.cuda.is_available() else 'cpu')\n",
        "\n",
        "# Hyper parameters\n",
        "num_epochs = 60\n",
        "num_classes = 10\n",
        "batch_size = 100\n",
        "learning_rate = 0.001"
      ],
      "execution_count": 0,
      "outputs": []
    },
    {
      "metadata": {
        "id": "b9zdKm0y2tHo",
        "colab_type": "text"
      },
      "cell_type": "markdown",
      "source": [
        "# **Load MNIST Dataset**"
      ]
    },
    {
      "metadata": {
        "id": "1WIgGcdQ0-dx",
        "colab_type": "code",
        "colab": {}
      },
      "cell_type": "code",
      "source": [
        "def data_loader():\n",
        "  # MNIST dataset\n",
        "  train_dataset = torchvision.datasets.MNIST(root='../../data/',\n",
        "                                             train=True, \n",
        "                                             transform=transforms.ToTensor(),\n",
        "                                             download=True)\n",
        "\n",
        "  test_dataset = torchvision.datasets.MNIST(root='../../data/',\n",
        "                                            train=False, \n",
        "                                            transform=transforms.ToTensor())\n",
        "\n",
        "  # Data loader\n",
        "  train_loader = torch.utils.data.DataLoader(dataset=train_dataset,\n",
        "                                             batch_size=batch_size, \n",
        "                                             shuffle=True)\n",
        "\n",
        "  test_loader = torch.utils.data.DataLoader(dataset=test_dataset,\n",
        "                                            batch_size=batch_size, \n",
        "                                            shuffle=False)\n",
        "  return train_dataset, test_dataset, train_loader, test_loader\n"
      ],
      "execution_count": 0,
      "outputs": []
    },
    {
      "metadata": {
        "id": "2l1RA6JfRatz",
        "colab_type": "text"
      },
      "cell_type": "markdown",
      "source": [
        "# **CNN with two convolutional layers**"
      ]
    },
    {
      "metadata": {
        "id": "FwqmT1mRj1oZ",
        "colab_type": "code",
        "colab": {}
      },
      "cell_type": "code",
      "source": [
        "train_dataset, test_dataset, train_loader, test_loader = data_loader()"
      ],
      "execution_count": 0,
      "outputs": []
    },
    {
      "metadata": {
        "id": "cmECdRNU2zoD",
        "colab_type": "code",
        "colab": {}
      },
      "cell_type": "code",
      "source": [
        "# Convolutional neural network (two convolutional layers)\n",
        "class ConvNet(nn.Module):\n",
        "    def __init__(self, num_classes=10):\n",
        "        super(ConvNet, self).__init__()\n",
        "        self.layer1 = nn.Sequential(                                 # Input shape (1,28,28)\n",
        "            nn.Conv2d(1, 16, kernel_size=5, stride=1, padding=2),    # Input height = 1, n_filters = 16, filter size = 5\n",
        "            nn.BatchNorm2d(16),                                      # Output shape (16,28,28)\n",
        "            nn.ReLU(),                                               # activation\n",
        "            nn.MaxPool2d(kernel_size=2, stride=2))                   # choose max value in 2x2 area, output shape (16,14,14)\n",
        "        self.layer2 = nn.Sequential(\n",
        "            nn.Conv2d(16, 32, kernel_size=5, stride=1, padding=2),   # input shape (1,28,28)\n",
        "            nn.BatchNorm2d(32),                                      # output shape (32,14,14)\n",
        "            nn.ReLU(),                                               # activation \n",
        "            nn.MaxPool2d(kernel_size=2, stride=2))                   # output shape (32,7,7)\n",
        "        self.fc = nn.Linear(7*7*32, num_classes)                     # fully connected layer, output 10 classes\n",
        "        \n",
        "    def forward(self, x):\n",
        "        out = self.layer1(x)\n",
        "        out = self.layer2(out)\n",
        "        out = out.reshape(out.size(0), -1)\n",
        "        out = self.fc(out)\n",
        "        return out\n"
      ],
      "execution_count": 0,
      "outputs": []
    },
    {
      "metadata": {
        "id": "DnGc4D_i20WF",
        "colab_type": "code",
        "colab": {}
      },
      "cell_type": "code",
      "source": [
        "# Convolutional Neural Network\n",
        "model = ConvNet(num_classes).to(device)"
      ],
      "execution_count": 0,
      "outputs": []
    },
    {
      "metadata": {
        "id": "JIxTPU1522hJ",
        "colab_type": "code",
        "colab": {}
      },
      "cell_type": "code",
      "source": [
        "#Loss and optimizer\n",
        "criterion = nn.CrossEntropyLoss()\n",
        "optimizer = torch.optim.Adam(model.parameters(), lr=learning_rate)"
      ],
      "execution_count": 0,
      "outputs": []
    },
    {
      "metadata": {
        "id": "MksmS7cR254e",
        "colab_type": "code",
        "outputId": "d7e3faca-488c-4315-8f15-97bf6aef1558",
        "colab": {
          "base_uri": "https://localhost:8080/",
          "height": 1037
        }
      },
      "cell_type": "code",
      "source": [
        "# Train the model\n",
        "train_acc_arr= []\n",
        "train_loss_arr = []\n",
        "test_acc_arr = []\n",
        "test_loss_arr = []\n",
        "total_step = len(train_loader)\n",
        "for epoch in range(num_epochs):\n",
        "    t_start = time.time()\n",
        "    output_compiled= []\n",
        "    true_compiled = []\n",
        "    loss_compiled = []\n",
        "    for i, (images, labels) in enumerate(train_loader):\n",
        "        images = images.to(device)\n",
        "        labels = labels.to(device)\n",
        "        true_compiled.extend(labels.to(device))\n",
        "        \n",
        "        # Forward pass\n",
        "        outputs = model(images)\n",
        "        train_loss = criterion(outputs, labels)\n",
        "        loss_compiled.append(train_loss.data.data.item())\n",
        "        \n",
        "        # Backward and optimize\n",
        "        optimizer.zero_grad()\n",
        "        train_loss.backward()\n",
        "        optimizer.step()\n",
        "        \n",
        "        # Compute Accuracy\n",
        "        _,argmax = torch.max(outputs,1)\n",
        "        output_compiled.extend(argmax.squeeze())\n",
        "     \n",
        "    t_duration = time.time() - t_start\n",
        "    \n",
        "    train_acc = (np.array(true_compiled) == np.array(output_compiled)).mean()\n",
        "    train_loss = np.array(loss_compiled).mean()\n",
        "    train_acc_arr.append(train_acc)\n",
        "    train_loss_arr.append(train_loss)\n",
        "    print(\"Epoch [{}/{}], Loss: {:.3f}, Accuracy: {:3f}, Duration: {}\"\n",
        "          .format(epoch+1, num_epochs, train_loss, train_acc, t_duration))\n",
        "    \n",
        "    test_output_compiled = []\n",
        "    test_true_compiled = []\n",
        "    test_loss_compiled = []\n",
        "    \n",
        "    for j, (test_images, test_labels) in enumerate(test_loader):\n",
        "        test_images = test_images.to(device)\n",
        "        test_labels = test_labels.to(device)\n",
        "        test_true_compiled.extend(test_labels.to(device))\n",
        "        \n",
        "        # Forward pass\n",
        "        test_outputs = model(test_images)\n",
        "        test_loss = criterion(test_outputs, test_labels)\n",
        "        test_loss_compiled.append(test_loss.data.data.item())\n",
        "        \n",
        "        # Compute accuracy\n",
        "        _, argmax = torch.max(test_outputs, 1)\n",
        "        test_output_compiled.extend(argmax.squeeze())\n",
        "        \n",
        "    test_acc = (np.array(test_true_compiled) == np.array(test_output_compiled)).mean()\n",
        "    test_acc_arr.append(test_acc)\n",
        "    test_loss_arr.append(np.array(test_loss_compiled).mean())\n",
        "    \n"
      ],
      "execution_count": 0,
      "outputs": [
        {
          "output_type": "stream",
          "text": [
            "Epoch [1/60], Loss: 0.161, Accuracy: 0.958717, Duration: 93.19123864173889\n",
            "Epoch [2/60], Loss: 0.049, Accuracy: 0.984917, Duration: 95.45496988296509\n",
            "Epoch [3/60], Loss: 0.037, Accuracy: 0.988400, Duration: 95.6857693195343\n",
            "Epoch [4/60], Loss: 0.032, Accuracy: 0.990217, Duration: 93.75429773330688\n",
            "Epoch [5/60], Loss: 0.025, Accuracy: 0.992033, Duration: 93.08609056472778\n",
            "Epoch [6/60], Loss: 0.020, Accuracy: 0.993750, Duration: 93.39243984222412\n",
            "Epoch [7/60], Loss: 0.017, Accuracy: 0.994550, Duration: 94.7326991558075\n",
            "Epoch [8/60], Loss: 0.016, Accuracy: 0.995000, Duration: 92.73004126548767\n",
            "Epoch [9/60], Loss: 0.013, Accuracy: 0.995950, Duration: 93.1158447265625\n",
            "Epoch [10/60], Loss: 0.010, Accuracy: 0.996883, Duration: 92.90843629837036\n",
            "Epoch [11/60], Loss: 0.009, Accuracy: 0.997533, Duration: 92.42374777793884\n",
            "Epoch [12/60], Loss: 0.007, Accuracy: 0.997617, Duration: 92.58884906768799\n",
            "Epoch [13/60], Loss: 0.008, Accuracy: 0.997517, Duration: 92.69695281982422\n",
            "Epoch [14/60], Loss: 0.006, Accuracy: 0.998183, Duration: 93.16467928886414\n",
            "Epoch [15/60], Loss: 0.005, Accuracy: 0.998317, Duration: 93.24048018455505\n",
            "Epoch [16/60], Loss: 0.005, Accuracy: 0.998500, Duration: 92.94592332839966\n",
            "Epoch [17/60], Loss: 0.007, Accuracy: 0.997517, Duration: 93.48574829101562\n",
            "Epoch [18/60], Loss: 0.003, Accuracy: 0.998850, Duration: 92.67987871170044\n",
            "Epoch [19/60], Loss: 0.004, Accuracy: 0.998767, Duration: 93.25662040710449\n",
            "Epoch [20/60], Loss: 0.003, Accuracy: 0.999017, Duration: 94.64572787284851\n",
            "Epoch [21/60], Loss: 0.003, Accuracy: 0.999167, Duration: 95.36463236808777\n",
            "Epoch [22/60], Loss: 0.003, Accuracy: 0.999150, Duration: 93.68006753921509\n",
            "Epoch [23/60], Loss: 0.002, Accuracy: 0.999517, Duration: 97.33903217315674\n",
            "Epoch [24/60], Loss: 0.003, Accuracy: 0.999100, Duration: 93.12633609771729\n",
            "Epoch [25/60], Loss: 0.007, Accuracy: 0.997767, Duration: 100.13301849365234\n",
            "Epoch [26/60], Loss: 0.002, Accuracy: 0.999600, Duration: 102.232741355896\n",
            "Epoch [27/60], Loss: 0.001, Accuracy: 0.999900, Duration: 101.74388527870178\n",
            "Epoch [28/60], Loss: 0.000, Accuracy: 1.000000, Duration: 101.47059345245361\n",
            "Epoch [29/60], Loss: 0.000, Accuracy: 1.000000, Duration: 101.96536350250244\n",
            "Epoch [30/60], Loss: 0.000, Accuracy: 1.000000, Duration: 103.39545893669128\n",
            "Epoch [31/60], Loss: 0.000, Accuracy: 1.000000, Duration: 102.98902797698975\n",
            "Epoch [32/60], Loss: 0.000, Accuracy: 1.000000, Duration: 101.9509973526001\n",
            "Epoch [33/60], Loss: 0.000, Accuracy: 1.000000, Duration: 101.60047793388367\n",
            "Epoch [34/60], Loss: 0.007, Accuracy: 0.998067, Duration: 96.87585878372192\n",
            "Epoch [35/60], Loss: 0.008, Accuracy: 0.997300, Duration: 92.33741450309753\n",
            "Epoch [36/60], Loss: 0.001, Accuracy: 0.999900, Duration: 92.97418427467346\n",
            "Epoch [37/60], Loss: 0.001, Accuracy: 0.999867, Duration: 93.16094326972961\n",
            "Epoch [38/60], Loss: 0.000, Accuracy: 0.999950, Duration: 92.87613773345947\n",
            "Epoch [39/60], Loss: 0.000, Accuracy: 1.000000, Duration: 96.00503826141357\n",
            "Epoch [40/60], Loss: 0.000, Accuracy: 1.000000, Duration: 96.7987277507782\n",
            "Epoch [41/60], Loss: 0.000, Accuracy: 1.000000, Duration: 92.5399444103241\n",
            "Epoch [42/60], Loss: 0.000, Accuracy: 1.000000, Duration: 92.48557329177856\n",
            "Epoch [43/60], Loss: 0.000, Accuracy: 1.000000, Duration: 92.47383069992065\n",
            "Epoch [44/60], Loss: 0.000, Accuracy: 1.000000, Duration: 92.71021389961243\n",
            "Epoch [45/60], Loss: 0.000, Accuracy: 1.000000, Duration: 92.83890891075134\n",
            "Epoch [46/60], Loss: 0.000, Accuracy: 1.000000, Duration: 92.61862564086914\n",
            "Epoch [47/60], Loss: 0.013, Accuracy: 0.996533, Duration: 94.50140285491943\n",
            "Epoch [48/60], Loss: 0.003, Accuracy: 0.999167, Duration: 92.29007315635681\n",
            "Epoch [49/60], Loss: 0.000, Accuracy: 0.999933, Duration: 91.52323698997498\n",
            "Epoch [50/60], Loss: 0.000, Accuracy: 1.000000, Duration: 95.62012791633606\n",
            "Epoch [51/60], Loss: 0.000, Accuracy: 1.000000, Duration: 97.91587519645691\n",
            "Epoch [52/60], Loss: 0.000, Accuracy: 1.000000, Duration: 97.39717054367065\n",
            "Epoch [53/60], Loss: 0.000, Accuracy: 1.000000, Duration: 97.79284620285034\n",
            "Epoch [54/60], Loss: 0.000, Accuracy: 1.000000, Duration: 98.78636288642883\n",
            "Epoch [55/60], Loss: 0.000, Accuracy: 1.000000, Duration: 97.82759356498718\n",
            "Epoch [56/60], Loss: 0.000, Accuracy: 1.000000, Duration: 97.19246578216553\n",
            "Epoch [57/60], Loss: 0.000, Accuracy: 1.000000, Duration: 97.1966073513031\n",
            "Epoch [58/60], Loss: 0.000, Accuracy: 1.000000, Duration: 100.14899039268494\n",
            "Epoch [59/60], Loss: 0.004, Accuracy: 0.998750, Duration: 97.40674495697021\n",
            "Epoch [60/60], Loss: 0.006, Accuracy: 0.998333, Duration: 98.47755885124207\n"
          ],
          "name": "stdout"
        }
      ]
    },
    {
      "metadata": {
        "id": "WJNwtVDN3AeO",
        "colab_type": "code",
        "outputId": "42338266-230e-4e51-a601-c790b0acee0f",
        "colab": {
          "base_uri": "https://localhost:8080/",
          "height": 401
        }
      },
      "cell_type": "code",
      "source": [
        "#PLotting accuracy and loss\n",
        "plt.subplot(2,2,1)\n",
        "plt.plot(train_acc_arr, 'b')\n",
        "#plt.set_title(\"Accuracy plot\")\n",
        "plt.ylabel(\"Training Accuracy\")\n",
        "plt.xlabel(\"Number of Epochs\")\n",
        "\n",
        "plt.subplot(2,2,2)\n",
        "plt.plot(test_acc_arr, 'r')\n",
        "#plt.set_title(\"Accuracy plot\")\n",
        "plt.ylabel(\"Testing Accuracy\")\n",
        "plt.xlabel(\"Number of Epochs\")\n",
        "\n",
        "plt.subplot(2,2,3)\n",
        "plt.plot(train_loss_arr, 'b')\n",
        "#plt.set_title(\"Accuracy plot\")\n",
        "plt.ylabel(\"Training Loss\")\n",
        "plt.xlabel(\"Number of Epochs\")\n",
        "\n",
        "plt.subplot(2,2,4)\n",
        "plt.plot(test_loss_arr, 'r')\n",
        "#plt.set_title(\"Loss Plot\")\n",
        "plt.ylabel(\"Testing Loss\")\n",
        "plt.xlabel(\"Number of Epochs\")\n",
        "\n",
        "plt.tight_layout()\n",
        "plt.show()"
      ],
      "execution_count": 0,
      "outputs": [
        {
          "output_type": "display_data",
          "data": {
            "image/png": "[encoded data removed]",
            "text/plain": [
              "<matplotlib.figure.Figure at 0x7f550099c4a8>"
            ]
          },
          "metadata": {
            "tags": []
          }
        }
      ]
    },
    {
      "metadata": {
        "id": "3uByruCl3FaK",
        "colab_type": "code",
        "outputId": "87aeab74-1556-47fa-e060-c3e709c070aa",
        "colab": {
          "base_uri": "https://localhost:8080/",
          "height": 34
        }
      },
      "cell_type": "code",
      "source": [
        "# Test the model\n",
        "model.eval()  # eval mode (batchnorm uses moving mean/variance instead of mini-batch mean/variance)\n",
        "with torch.no_grad():\n",
        "    correct = 0\n",
        "    total = 0\n",
        "    all_right_images = []\n",
        "    all_wrong_images = []\n",
        "    all_right_labels = []\n",
        "    all_wrong_labels = []\n",
        "    all_right_predicted = []\n",
        "    all_wrong_predicted = []\n",
        "    \n",
        "    for images, labels in test_loader:\n",
        "        images = images.to(device)\n",
        "        labels = labels.to(device)\n",
        "        outputs = model(images)\n",
        "        _, predicted = torch.max(outputs.data, 1)\n",
        "        total += labels.size(0)\n",
        "        correct += (predicted == labels).sum().item()\n",
        "        for i in range(len(predicted)):\n",
        "            image_reshape = images[i].reshape(28,28)\n",
        "            if  predicted[i] != labels[i]:\n",
        "                # right now is is 1 dimension\n",
        "                all_wrong_images.append(image_reshape)\n",
        "                all_wrong_labels.append(labels[i].data.item())\n",
        "                all_wrong_predicted.append(predicted[i].data.item())\n",
        "            elif predicted[i] == labels[i]:\n",
        "                all_right_images.append(image_reshape)\n",
        "                all_right_labels.append(labels[i].data.item())\n",
        "                all_right_predicted.append(predicted[i].data.item())\n",
        "\n",
        "    print('Test Accuracy of the model on the 10000 test images: {} %'.format(100 * correct / total))\n"
      ],
      "execution_count": 0,
      "outputs": [
        {
          "output_type": "stream",
          "text": [
            "Test Accuracy of the model on the 10000 test images: 99.07 %\n"
          ],
          "name": "stdout"
        }
      ]
    },
    {
      "metadata": {
        "id": "A8l5IAQz3Xuf",
        "colab_type": "text"
      },
      "cell_type": "markdown",
      "source": [
        "# *Function to plot many figures at once*"
      ]
    },
    {
      "metadata": {
        "id": "l-b2oi1G3IlQ",
        "colab_type": "code",
        "colab": {}
      },
      "cell_type": "code",
      "source": [
        "def plot_figures(figures, nrows = 1, ncols=1):\n",
        "    \"\"\"Plot a dictionary of figures.\n",
        "\n",
        "    Parameters\n",
        "    ----------\n",
        "    figures : <title, figure> dictionary\n",
        "    ncols : number of columns of subplots wanted in the display\n",
        "    nrows : number of rows of subplots wanted in the figure\n",
        "    \"\"\"\n",
        "\n",
        "    fig, axeslist = plt.subplots(ncols=ncols, nrows=nrows)\n",
        "    for ind,title in enumerate(figures):\n",
        "        axeslist.ravel()[ind].imshow(figures[title], cmap=plt.gray())\n",
        "        axeslist.ravel()[ind].set_title(title)\n",
        "        axeslist.ravel()[ind].set_axis_off()\n",
        "    plt.tight_layout() # optional"
      ],
      "execution_count": 0,
      "outputs": []
    },
    {
      "metadata": {
        "id": "abkZPyfL3Lme",
        "colab_type": "code",
        "outputId": "ef578b45-98c2-423c-aac8-dfeca5299950",
        "colab": {
          "base_uri": "https://localhost:8080/",
          "height": 322
        }
      },
      "cell_type": "code",
      "source": [
        "# Plot some right images\n",
        "import random\n",
        "number_of_im = 10\n",
        "right_figures = {}\n",
        "right_index = random.sample(range(0,len(all_right_images)-1),number_of_im)\n",
        "ID = 0\n",
        "for i in right_index:\n",
        "    #index = np.random.randint(0,len(all_right_images)-1)\n",
        "    #print(index)\n",
        "    right_figures[str(ID) + \":\" + \"L=\" + str(all_right_labels[i]) + \" P=\" \n",
        "                  + str(all_right_predicted[i])] = all_right_images[i]\n",
        "    ID +=1\n",
        "# plot of the images in a figure, with 2 rows and 3 columns\n",
        "plot_figures(right_figures, 2, 5)"
      ],
      "execution_count": 0,
      "outputs": [
        {
          "output_type": "display_data",
          "data": {
            "image/png": "[encoded data removed]",
            "text/plain": [
              "<matplotlib.figure.Figure at 0x7f550099c320>"
            ]
          },
          "metadata": {
            "tags": []
          }
        }
      ]
    },
    {
      "metadata": {
        "id": "zxvCCmMC3Mmy",
        "colab_type": "code",
        "outputId": "12fda784-9ce4-458c-efd8-3eabcdf528c9",
        "colab": {
          "base_uri": "https://localhost:8080/",
          "height": 322
        }
      },
      "cell_type": "code",
      "source": [
        "# Plot the some wrong images\n",
        "number_of_im = 10\n",
        "wrong_figures = {}\n",
        "wrong_index = random.sample(range(0,len(all_wrong_images)-1),number_of_im)\n",
        "ID = 0\n",
        "for i in wrong_index:\n",
        "    wrong_figures[str(ID) + \":\" + \"L=\" + str(all_wrong_labels[i]) + \" P=\" \n",
        "                  + str(all_wrong_predicted[i])] = all_wrong_images[i]\n",
        "    ID +=1\n",
        "# plot of the images in a figure, with 2 rows and 3 columns\n",
        "plot_figures(wrong_figures, 2, 5)"
      ],
      "execution_count": 0,
      "outputs": [
        {
          "output_type": "display_data",
          "data": {
            "image/png": "[encoded data removed]",
            "text/plain": [
              "<matplotlib.figure.Figure at 0x7f550098dcf8>"
            ]
          },
          "metadata": {
            "tags": []
          }
        }
      ]
    },
    {
      "metadata": {
        "id": "mrQmI9u83Qp6",
        "colab_type": "code",
        "outputId": "d629d6c4-0331-4ff0-dbdf-5339592cc8b0",
        "colab": {
          "base_uri": "https://localhost:8080/",
          "height": 609
        }
      },
      "cell_type": "code",
      "source": [
        "# Heat Map of CNN MNIST\n",
        "all_labels = all_right_labels + all_wrong_labels\n",
        "all_predicted = all_right_predicted + all_wrong_predicted\n",
        "\n",
        "mat = confusion_matrix(all_labels, all_predicted)\n",
        "\n",
        "label_predict = pd.DataFrame(mat, range(10),range(10))\n",
        "# sn.set(font_scale=1.2) #for label size\n",
        "plt.figure(figsize=(10, 10))\n",
        "sn.heatmap(label_predict, annot=True,fmt='g')"
      ],
      "execution_count": 0,
      "outputs": [
        {
          "output_type": "execute_result",
          "data": {
            "text/plain": [
              "<matplotlib.axes._subplots.AxesSubplot at 0x7f550098d668>"
            ]
          },
          "metadata": {
            "tags": []
          },
          "execution_count": 19
        },
        {
          "output_type": "display_data",
          "data": {
            "image/png": "[encoded data removed]",
            "text/plain": [
              "<matplotlib.figure.Figure at 0x7f54ff9926d8>"
            ]
          },
          "metadata": {
            "tags": []
          }
        }
      ]
    },
    {
      "metadata": {
        "id": "3_vqZv143S4w",
        "colab_type": "code",
        "outputId": "1c0e9244-15d8-4e8c-cd93-5e638109d57c",
        "colab": {
          "base_uri": "https://localhost:8080/",
          "height": 51
        }
      },
      "cell_type": "code",
      "source": [
        "# Save the model checkpoint\n",
        "torch.save(model.state_dict(), 'model.ckpt')\n",
        "print(len(all_wrong_labels))\n",
        "print(len(all_right_labels))"
      ],
      "execution_count": 0,
      "outputs": [
        {
          "output_type": "stream",
          "text": [
            "93\n",
            "9907\n"
          ],
          "name": "stdout"
        }
      ]
    }
  ]
}