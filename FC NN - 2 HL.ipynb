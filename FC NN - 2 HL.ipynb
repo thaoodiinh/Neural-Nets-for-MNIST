{
  "nbformat": 4,
  "nbformat_minor": 0,
  "metadata": {
    "colab": {
      "name": "Copy of Copy of All Deep Learning Models.ipynb",
      "version": "0.3.2",
      "provenance": [],
      "collapsed_sections": []
    },
    "kernelspec": {
      "name": "python3",
      "display_name": "Python 3"
    }
  },
  "cells": [
    {
      "metadata": {
        "id": "z_2aOs0L8V_3",
        "colab_type": "code",
        "outputId": "849fb6ee-df1e-4522-a54d-4bc51a50925c",
        "colab": {
          "base_uri": "https://localhost:8080/",
          "height": 34
        }
      },
      "cell_type": "code",
      "source": [
        "# Install a Drive FUSE wrapper.\n",
        "# https://github.com/astrada/google-drive-ocamlfuse\n",
        "!apt-get install -y -qq software-properties-common python-software-properties module-init-tools\n",
        "!add-apt-repository -y ppa:alessandro-strada/ppa 2>&1 > /dev/null\n",
        "!apt-get update -qq 2>&1 > /dev/null\n",
        "!apt-get -y install -qq google-drive-ocamlfuse fuse"
      ],
      "execution_count": 0,
      "outputs": [
        {
          "output_type": "stream",
          "text": [
            "E: Package 'python-software-properties' has no installation candidate\n"
          ],
          "name": "stdout"
        }
      ]
    },
    {
      "metadata": {
        "id": "itxLflVFzvyo",
        "colab_type": "code",
        "colab": {}
      },
      "cell_type": "code",
      "source": [
        "# Generate auth tokens for Colab\n",
        "from google.colab import auth\n",
        "auth.authenticate_user()"
      ],
      "execution_count": 0,
      "outputs": []
    },
    {
      "metadata": {
        "id": "x9P63kwBzzPy",
        "colab_type": "code",
        "outputId": "b70c0897-940a-4f9a-fcb6-307ff8a93998",
        "colab": {
          "base_uri": "https://localhost:8080/",
          "height": 34
        }
      },
      "cell_type": "code",
      "source": [
        "# Generate creds for the Drive FUSE library.\n",
        "from oauth2client.client import GoogleCredentials\n",
        "creds = GoogleCredentials.get_application_default()\n",
        "import getpass\n",
        "!google-drive-ocamlfuse -headless -id={creds.client_id} -secret={creds.client_secret} < /dev/null 2>&1 | grep URL\n",
        "vcode = getpass.getpass()\n",
        "!echo {vcode} | google-drive-ocamlfuse -headless -id={creds.client_id} -secret={creds.client_secret}"
      ],
      "execution_count": 0,
      "outputs": [
        {
          "output_type": "stream",
          "text": [
            "··········\n"
          ],
          "name": "stdout"
        }
      ]
    },
    {
      "metadata": {
        "id": "ofiJ6Yz30E7i",
        "colab_type": "code",
        "outputId": "0d0399d3-3088-4ce8-86e4-dc634fd43c92",
        "colab": {
          "base_uri": "https://localhost:8080/",
          "height": 51
        }
      },
      "cell_type": "code",
      "source": [
        "# Create a directory and mount Google Drive using that directory.\n",
        "!mkdir -p drive\n",
        "!google-drive-ocamlfuse drive"
      ],
      "execution_count": 0,
      "outputs": [
        {
          "output_type": "stream",
          "text": [
            "fuse: mountpoint is not empty\n",
            "fuse: if you are sure this is safe, use the 'nonempty' mount option\n"
          ],
          "name": "stdout"
        }
      ]
    },
    {
      "metadata": {
        "id": "nJMUVmLp0HLT",
        "colab_type": "code",
        "colab": {}
      },
      "cell_type": "code",
      "source": [
        "# http://pytorch.org/\n",
        "from os import path\n",
        "from wheel.pep425tags import get_abbr_impl, get_impl_ver, get_abi_tag\n",
        "platform = '{}{}-{}'.format(get_abbr_impl(), get_impl_ver(), get_abi_tag())\n",
        "\n",
        "accelerator = 'cu80' if path.exists('/opt/bin/nvidia-smi') else 'cpu'\n",
        "\n",
        "!pip install -q http://download.pytorch.org/whl/{accelerator}/torch-0.4.0-{platform}-linux_x86_64.whl torchvision"
      ],
      "execution_count": 0,
      "outputs": []
    },
    {
      "metadata": {
        "id": "EneMMDElRmKN",
        "colab_type": "text"
      },
      "cell_type": "markdown",
      "source": [
        "# **Importing packages for all models**"
      ]
    },
    {
      "metadata": {
        "id": "RNwibkPO004o",
        "colab_type": "code",
        "colab": {}
      },
      "cell_type": "code",
      "source": [
        "import torch\n",
        "import torch.nn as nn\n",
        "import torchvision\n",
        "import torchvision.transforms as transforms\n",
        "import numpy as np\n",
        "import matplotlib.pyplot as plt\n",
        "from sklearn.metrics import confusion_matrix\n",
        "import seaborn as sn\n",
        "import pandas as pd\n",
        "import time"
      ],
      "execution_count": 0,
      "outputs": []
    },
    {
      "metadata": {
        "id": "n2OIocfiK2Xj",
        "colab_type": "code",
        "colab": {}
      },
      "cell_type": "code",
      "source": [
        "# Device configuration\n",
        "device = torch.device('cuda:0' if torch.cuda.is_available() else 'cpu')\n",
        "\n",
        "# Hyper parameters\n",
        "num_epochs = 60\n",
        "num_classes = 10\n",
        "batch_size = 100\n",
        "learning_rate = 0.001"
      ],
      "execution_count": 0,
      "outputs": []
    },
    {
      "metadata": {
        "id": "b9zdKm0y2tHo",
        "colab_type": "text"
      },
      "cell_type": "markdown",
      "source": [
        "# **Load MNIST Dataset**"
      ]
    },
    {
      "metadata": {
        "id": "1WIgGcdQ0-dx",
        "colab_type": "code",
        "colab": {}
      },
      "cell_type": "code",
      "source": [
        "def data_loader():\n",
        "  # MNIST dataset\n",
        "  train_dataset = torchvision.datasets.MNIST(root='../../data/',\n",
        "                                             train=True, \n",
        "                                             transform=transforms.ToTensor(),\n",
        "                                             download=True)\n",
        "\n",
        "  test_dataset = torchvision.datasets.MNIST(root='../../data/',\n",
        "                                            train=False, \n",
        "                                            transform=transforms.ToTensor())\n",
        "\n",
        "  # Data loader\n",
        "  train_loader = torch.utils.data.DataLoader(dataset=train_dataset,\n",
        "                                             batch_size=batch_size, \n",
        "                                             shuffle=True)\n",
        "\n",
        "  test_loader = torch.utils.data.DataLoader(dataset=test_dataset,\n",
        "                                            batch_size=batch_size, \n",
        "                                            shuffle=False)\n",
        "  return train_dataset, test_dataset, train_loader, test_loader\n"
      ],
      "execution_count": 0,
      "outputs": []
    },
    {
      "metadata": {
        "id": "A8l5IAQz3Xuf",
        "colab_type": "text"
      },
      "cell_type": "markdown",
      "source": [
        "# *Function to plot many figures at once*"
      ]
    },
    {
      "metadata": {
        "id": "l-b2oi1G3IlQ",
        "colab_type": "code",
        "colab": {}
      },
      "cell_type": "code",
      "source": [
        "def plot_figures(figures, nrows = 1, ncols=1):\n",
        "    \"\"\"Plot a dictionary of figures.\n",
        "\n",
        "    Parameters\n",
        "    ----------\n",
        "    figures : <title, figure> dictionary\n",
        "    ncols : number of columns of subplots wanted in the display\n",
        "    nrows : number of rows of subplots wanted in the figure\n",
        "    \"\"\"\n",
        "\n",
        "    fig, axeslist = plt.subplots(ncols=ncols, nrows=nrows)\n",
        "    for ind,title in enumerate(figures):\n",
        "        axeslist.ravel()[ind].imshow(figures[title], cmap=plt.gray())\n",
        "        axeslist.ravel()[ind].set_title(title)\n",
        "        axeslist.ravel()[ind].set_axis_off()\n",
        "    plt.tight_layout() # optional"
      ],
      "execution_count": 0,
      "outputs": []
    },
    {
      "metadata": {
        "id": "jfr-tyAsadF5",
        "colab_type": "text"
      },
      "cell_type": "markdown",
      "source": [
        "# **Fully Connected with 2 hidden layers**"
      ]
    },
    {
      "metadata": {
        "id": "oJc8r67BkRTR",
        "colab_type": "code",
        "colab": {}
      },
      "cell_type": "code",
      "source": [
        "train_dataset, test_dataset, train_loader, test_loader = data_loader()"
      ],
      "execution_count": 0,
      "outputs": []
    },
    {
      "metadata": {
        "id": "aPg4T-yAh8hB",
        "colab_type": "text"
      },
      "cell_type": "markdown",
      "source": [
        "Number of neurons per hidden layers can be adjusted below"
      ]
    },
    {
      "metadata": {
        "id": "38HYFAuhajgq",
        "colab_type": "code",
        "colab": {}
      },
      "cell_type": "code",
      "source": [
        "import torch.nn.functional as F\n",
        "input_size = 784\n",
        "hidden_size_1 = 250\n",
        "hidden_size_2 = 250\n",
        "num_classes = 10"
      ],
      "execution_count": 0,
      "outputs": []
    },
    {
      "metadata": {
        "id": "PvRx8kjzakcr",
        "colab_type": "code",
        "colab": {}
      },
      "cell_type": "code",
      "source": [
        "# Fully connected neural network with two hidden layer\n",
        "class NeuralNet(nn.Module):\n",
        "    def __init__(self, input_size, hidden_size_1, hidden_size_2, num_classes):\n",
        "        super(NeuralNet, self).__init__()\n",
        "        self.fc1 = nn.Linear(input_size, hidden_size_1)\n",
        "        self.fc2 = nn.Linear(hidden_size_1, hidden_size_2)\n",
        "        self.fc3 = nn.Linear(hidden_size_2, num_classes)  \n",
        "    \n",
        "    def forward(self, x):\n",
        "        x = F.sigmoid(self.fc1(x))\n",
        "        x = F.sigmoid(self.fc2(x))\n",
        "        x = self.fc3(x)\n",
        "        return F.log_softmax(x)\n"
      ],
      "execution_count": 0,
      "outputs": []
    },
    {
      "metadata": {
        "id": "Ng9IOUmVa2go",
        "colab_type": "code",
        "colab": {}
      },
      "cell_type": "code",
      "source": [
        "model = NeuralNet(input_size, hidden_size_1,hidden_size_2, num_classes).to(device)\n",
        "# Loss and optimizer\n",
        "criterion = nn.CrossEntropyLoss()\n",
        "optimizer = torch.optim.Adam(model.parameters(), lr=learning_rate)  "
      ],
      "execution_count": 0,
      "outputs": []
    },
    {
      "metadata": {
        "id": "rzSFzSBva8Fi",
        "colab_type": "code",
        "outputId": "7e2c9333-51a7-47ad-c351-67f01d828756",
        "colab": {
          "base_uri": "https://localhost:8080/",
          "height": 1088
        }
      },
      "cell_type": "code",
      "source": [
        "# Train the model\n",
        "train_acc_arr= []\n",
        "train_loss_arr = []\n",
        "test_acc_arr = []\n",
        "test_loss_arr = []\n",
        "duration = []\n",
        "total_step = len(train_loader)\n",
        "for epoch in range(num_epochs):\n",
        "    t_start = time.time()\n",
        "    output_compiled= []\n",
        "    true_compiled = []\n",
        "    loss_compiled = []\n",
        "    for i, (images, labels) in enumerate(train_loader):  \n",
        "        # Move tensors to the configured device\n",
        "        images = images.reshape(-1, 28*28).to(device)\n",
        "        true_compiled.extend(labels.to(device))\n",
        "\n",
        "\n",
        "        # Forward pass\n",
        "        outputs = model(images)\n",
        "        train_loss = criterion(outputs, labels)\n",
        "        loss_compiled.append(train_loss.data.data.item())\n",
        "\n",
        "        # Backward and optimize\n",
        "        optimizer.zero_grad()\n",
        "        train_loss.backward()\n",
        "        optimizer.step()\n",
        "\n",
        "        # Compute Accuracy\n",
        "        _,argmax = torch.max(outputs,1)\n",
        "        output_compiled.extend(argmax.squeeze())\n",
        "\n",
        "        \n",
        "    t_duration = time.time()- t_start\n",
        "    train_acc = (np.array(true_compiled) == np.array(output_compiled)).mean()\n",
        "    train_loss = np.array(loss_compiled).mean()\n",
        "    train_acc_arr.append(train_acc)\n",
        "    train_loss_arr.append(train_loss)\n",
        "    duration.append(t_duration)\n",
        "    print('Epoch [{}/{}], Loss: {:.3f}, Accuracy: {:.3f}, Duration: {:.2f}'  \n",
        "        .format(epoch+1, num_epochs, train_loss, train_acc, t_duration))\n",
        "\n",
        "    test_output_compiled = []\n",
        "    test_true_compiled = []\n",
        "    test_loss_compiled = []\n",
        "\n",
        "    for j, (test_images, test_labels) in enumerate(test_loader):\n",
        "        test_images = test_images.reshape(-1,28*28).to(device)\n",
        "        test_true_compiled.extend(test_labels.to(device))\n",
        "\n",
        "        # Forward pass\n",
        "        test_outputs = model(test_images)\n",
        "        test_loss = criterion(test_outputs, test_labels)\n",
        "        test_loss_compiled.append(test_loss.data.data.item())\n",
        "\n",
        "        # Compute accuracy\n",
        "        _, argmax = torch.max(test_outputs, 1)\n",
        "        test_output_compiled.extend(argmax.squeeze())\n",
        "\n",
        "    test_acc = (np.array(test_true_compiled) == np.array(test_output_compiled)).mean()\n",
        "    test_acc_arr.append(test_acc)\n",
        "    test_loss_arr.append(np.array(test_loss_compiled).mean())\n",
        "print(sum(duration)/float(len(duration)))"
      ],
      "execution_count": 0,
      "outputs": [
        {
          "output_type": "stream",
          "text": [
            "/usr/local/lib/python3.6/dist-packages/ipykernel_launcher.py:12: UserWarning: Implicit dimension choice for log_softmax has been deprecated. Change the call to include dim=X as an argument.\n",
            "  if sys.path[0] == '':\n"
          ],
          "name": "stderr"
        },
        {
          "output_type": "stream",
          "text": [
            "Epoch [1/60], Loss: 0.582, Accuracy: 0.835, Duration: 7.38\n",
            "Epoch [2/60], Loss: 0.208, Accuracy: 0.938, Duration: 7.59\n",
            "Epoch [3/60], Loss: 0.150, Accuracy: 0.955, Duration: 7.07\n",
            "Epoch [4/60], Loss: 0.114, Accuracy: 0.967, Duration: 6.92\n",
            "Epoch [5/60], Loss: 0.090, Accuracy: 0.973, Duration: 6.72\n",
            "Epoch [6/60], Loss: 0.074, Accuracy: 0.978, Duration: 6.85\n",
            "Epoch [7/60], Loss: 0.059, Accuracy: 0.982, Duration: 6.72\n",
            "Epoch [8/60], Loss: 0.048, Accuracy: 0.985, Duration: 6.77\n",
            "Epoch [9/60], Loss: 0.039, Accuracy: 0.989, Duration: 6.79\n",
            "Epoch [10/60], Loss: 0.032, Accuracy: 0.991, Duration: 6.71\n",
            "Epoch [11/60], Loss: 0.026, Accuracy: 0.993, Duration: 6.77\n",
            "Epoch [12/60], Loss: 0.021, Accuracy: 0.994, Duration: 6.81\n",
            "Epoch [13/60], Loss: 0.017, Accuracy: 0.995, Duration: 6.83\n",
            "Epoch [14/60], Loss: 0.013, Accuracy: 0.997, Duration: 6.81\n",
            "Epoch [15/60], Loss: 0.011, Accuracy: 0.997, Duration: 6.72\n",
            "Epoch [16/60], Loss: 0.008, Accuracy: 0.998, Duration: 6.84\n",
            "Epoch [17/60], Loss: 0.007, Accuracy: 0.999, Duration: 6.92\n",
            "Epoch [18/60], Loss: 0.006, Accuracy: 0.998, Duration: 6.88\n",
            "Epoch [19/60], Loss: 0.004, Accuracy: 0.999, Duration: 6.87\n",
            "Epoch [20/60], Loss: 0.005, Accuracy: 0.999, Duration: 6.89\n",
            "Epoch [21/60], Loss: 0.005, Accuracy: 0.998, Duration: 6.89\n",
            "Epoch [22/60], Loss: 0.004, Accuracy: 0.999, Duration: 6.76\n",
            "Epoch [23/60], Loss: 0.002, Accuracy: 1.000, Duration: 6.74\n",
            "Epoch [24/60], Loss: 0.005, Accuracy: 0.999, Duration: 6.66\n",
            "Epoch [25/60], Loss: 0.003, Accuracy: 0.999, Duration: 7.35\n",
            "Epoch [26/60], Loss: 0.001, Accuracy: 1.000, Duration: 6.90\n",
            "Epoch [27/60], Loss: 0.000, Accuracy: 1.000, Duration: 6.91\n",
            "Epoch [28/60], Loss: 0.006, Accuracy: 0.998, Duration: 6.94\n",
            "Epoch [29/60], Loss: 0.005, Accuracy: 0.998, Duration: 6.92\n",
            "Epoch [30/60], Loss: 0.001, Accuracy: 1.000, Duration: 6.86\n",
            "Epoch [31/60], Loss: 0.000, Accuracy: 1.000, Duration: 6.92\n",
            "Epoch [32/60], Loss: 0.000, Accuracy: 1.000, Duration: 7.12\n",
            "Epoch [33/60], Loss: 0.000, Accuracy: 1.000, Duration: 6.99\n",
            "Epoch [34/60], Loss: 0.009, Accuracy: 0.997, Duration: 6.87\n",
            "Epoch [35/60], Loss: 0.001, Accuracy: 1.000, Duration: 7.01\n",
            "Epoch [36/60], Loss: 0.000, Accuracy: 1.000, Duration: 6.79\n",
            "Epoch [37/60], Loss: 0.000, Accuracy: 1.000, Duration: 7.02\n",
            "Epoch [38/60], Loss: 0.000, Accuracy: 1.000, Duration: 6.82\n",
            "Epoch [39/60], Loss: 0.000, Accuracy: 1.000, Duration: 6.76\n",
            "Epoch [40/60], Loss: 0.000, Accuracy: 1.000, Duration: 7.39\n",
            "Epoch [41/60], Loss: 0.000, Accuracy: 1.000, Duration: 7.43\n",
            "Epoch [42/60], Loss: 0.000, Accuracy: 1.000, Duration: 7.03\n",
            "Epoch [43/60], Loss: 0.008, Accuracy: 0.998, Duration: 6.81\n",
            "Epoch [44/60], Loss: 0.005, Accuracy: 0.998, Duration: 7.03\n",
            "Epoch [45/60], Loss: 0.000, Accuracy: 1.000, Duration: 6.75\n",
            "Epoch [46/60], Loss: 0.000, Accuracy: 1.000, Duration: 6.82\n",
            "Epoch [47/60], Loss: 0.000, Accuracy: 1.000, Duration: 7.09\n",
            "Epoch [48/60], Loss: 0.000, Accuracy: 1.000, Duration: 6.95\n",
            "Epoch [49/60], Loss: 0.000, Accuracy: 1.000, Duration: 6.96\n",
            "Epoch [50/60], Loss: 0.000, Accuracy: 1.000, Duration: 6.82\n",
            "Epoch [51/60], Loss: 0.000, Accuracy: 1.000, Duration: 6.83\n",
            "Epoch [52/60], Loss: 0.000, Accuracy: 1.000, Duration: 6.90\n",
            "Epoch [53/60], Loss: 0.000, Accuracy: 1.000, Duration: 6.84\n",
            "Epoch [54/60], Loss: 0.000, Accuracy: 1.000, Duration: 6.92\n",
            "Epoch [55/60], Loss: 0.000, Accuracy: 1.000, Duration: 6.90\n",
            "Epoch [56/60], Loss: 0.000, Accuracy: 1.000, Duration: 7.06\n",
            "Epoch [57/60], Loss: 0.012, Accuracy: 0.997, Duration: 6.98\n",
            "Epoch [58/60], Loss: 0.001, Accuracy: 1.000, Duration: 6.77\n",
            "Epoch [59/60], Loss: 0.000, Accuracy: 1.000, Duration: 6.87\n",
            "Epoch [60/60], Loss: 0.002, Accuracy: 0.999, Duration: 6.76\n",
            "6.916798007488251\n"
          ],
          "name": "stdout"
        }
      ]
    },
    {
      "metadata": {
        "id": "An0clrHolHtY",
        "colab_type": "code",
        "outputId": "7d311988-989a-4eb4-f749-a277a3463c25",
        "colab": {
          "base_uri": "https://localhost:8080/",
          "height": 68
        }
      },
      "cell_type": "code",
      "source": [
        "with torch.no_grad():\n",
        "      correct = 0\n",
        "      total = 0\n",
        "      all_right_images = []\n",
        "      all_wrong_images = []\n",
        "      all_right_labels = []\n",
        "      all_wrong_labels = []\n",
        "      all_right_predicted = []\n",
        "      all_wrong_predicted = []\n",
        "\n",
        "      for images, labels in test_loader:\n",
        "          images = images.reshape(-1, 28*28).to(device)\n",
        "          labels = labels.to(device)\n",
        "          outputs = model(images)\n",
        "          _, predicted = torch.max(outputs.data, 1)\n",
        "          total += labels.size(0)\n",
        "          correct += (predicted == labels).sum().item()\n",
        "\n",
        "          for i in range(len(predicted)):\n",
        "              image_reshape = images[i].reshape(28,28)\n",
        "              if predicted[i] != labels[i]:\n",
        "                  all_wrong_images.append(image_reshape)\n",
        "                  all_wrong_labels.append(labels[i].data.item())\n",
        "                  all_wrong_predicted.append(predicted[i].data.item())\n",
        "              elif predicted[i] == labels[i]:\n",
        "                  all_right_images.append(image_reshape)\n",
        "                  all_right_labels.append(labels[i].data.item())\n",
        "                  all_right_predicted.append(predicted[i].data.item())\n",
        "\n",
        "      print('Accuracy of the network on the 10000 test images: {} %'.format(100 * correct / total))\n"
      ],
      "execution_count": 0,
      "outputs": [
        {
          "output_type": "stream",
          "text": [
            "/usr/local/lib/python3.6/dist-packages/ipykernel_launcher.py:12: UserWarning: Implicit dimension choice for log_softmax has been deprecated. Change the call to include dim=X as an argument.\n",
            "  if sys.path[0] == '':\n"
          ],
          "name": "stderr"
        },
        {
          "output_type": "stream",
          "text": [
            "Accuracy of the network on the 10000 test images: 97.85 %\n"
          ],
          "name": "stdout"
        }
      ]
    },
    {
      "metadata": {
        "id": "JY6zQamslPt8",
        "colab_type": "code",
        "outputId": "86231d19-eab6-406b-f71e-89e725266aa3",
        "colab": {
          "base_uri": "https://localhost:8080/",
          "height": 322
        }
      },
      "cell_type": "code",
      "source": [
        "# Plot the some correct images\n",
        "import random\n",
        "number_of_im = 10\n",
        "right_figures = {}\n",
        "right_index = random.sample(range(0,len(all_right_images)-1),number_of_im)\n",
        "ID = 0\n",
        "for i in right_index:\n",
        "    #index = np.random.randint(0,len(all_right_images)-1)\n",
        "    #print(index)\n",
        "    right_figures[str(ID) + \":\" + \"L=\" + str(all_right_labels[i]) + \" P=\" + str(all_right_predicted[i])] = all_right_images[i]\n",
        "    ID +=1\n",
        "# plot of the images in a figure, with 2 rows and 3 columns\n",
        "plot_figures(right_figures, 2, 5)"
      ],
      "execution_count": 0,
      "outputs": [
        {
          "output_type": "display_data",
          "data": {
            "image/png": "[encoded data removed]",
            "text/plain": [
              "<matplotlib.figure.Figure at 0x7f7ee3155828>"
            ]
          },
          "metadata": {
            "tags": []
          }
        }
      ]
    },
    {
      "metadata": {
        "id": "MCoBOhY_lVdx",
        "colab_type": "code",
        "outputId": "f6ad1810-515f-44a9-c67c-a349075550aa",
        "colab": {
          "base_uri": "https://localhost:8080/",
          "height": 322
        }
      },
      "cell_type": "code",
      "source": [
        "# Plot the some wrong images\n",
        "number_of_im = 10\n",
        "wrong_figures = {}\n",
        "wrong_index = random.sample(range(0,len(all_wrong_images)-1),number_of_im)\n",
        "ID = 0\n",
        "for i in wrong_index:\n",
        "    wrong_figures[str(ID) + \":\" + \"L=\" + str(all_wrong_labels[i]) + \" P=\" + str(all_wrong_predicted[i])] = all_wrong_images[i]\n",
        "    ID +=1\n",
        "# plot of the images in a figure, with 2 rows and 3 columns\n",
        "plot_figures(wrong_figures, 2, 5)"
      ],
      "execution_count": 0,
      "outputs": [
        {
          "output_type": "display_data",
          "data": {
            "image/png": "[encoded data removed]",
            "text/plain": [
              "<matplotlib.figure.Figure at 0x7f7ee6936748>"
            ]
          },
          "metadata": {
            "tags": []
          }
        }
      ]
    },
    {
      "metadata": {
        "id": "UERob05O0CEJ",
        "colab_type": "code",
        "outputId": "ccba5faa-f8ea-4eaa-bd7b-a2de6f475f6d",
        "colab": {
          "base_uri": "https://localhost:8080/",
          "height": 609
        }
      },
      "cell_type": "code",
      "source": [
        "# Heat map for FC two hidden layers\n",
        "all_labels = all_right_labels + all_wrong_labels\n",
        "all_predicted = all_right_predicted + all_wrong_predicted\n",
        "\n",
        "mat = confusion_matrix(all_labels, all_predicted)\n",
        "\n",
        "label_predict = pd.DataFrame(mat, range(10),range(10))\n",
        "# sn.set(font_scale=1.2) #for label size\n",
        "plt.figure(figsize=(10, 10))\n",
        "sn.heatmap(label_predict, annot=True,fmt='g')"
      ],
      "execution_count": 0,
      "outputs": [
        {
          "output_type": "execute_result",
          "data": {
            "text/plain": [
              "<matplotlib.axes._subplots.AxesSubplot at 0x7f7ee31f2c50>"
            ]
          },
          "metadata": {
            "tags": []
          },
          "execution_count": 119
        },
        {
          "output_type": "display_data",
          "data": {
            "image/png": "[encoded data removed]",
            "text/plain": [
              "<matplotlib.figure.Figure at 0x7f7ee3b4f1d0>"
            ]
          },
          "metadata": {
            "tags": []
          }
        }
      ]
    },
    {
      "metadata": {
        "id": "AbU996btlSSO",
        "colab_type": "code",
        "outputId": "9840d9cd-951f-41b2-e4b1-74ab48c8b2d7",
        "colab": {
          "base_uri": "https://localhost:8080/",
          "height": 401
        }
      },
      "cell_type": "code",
      "source": [
        "#PLotting accuracy and loss\n",
        "plt.subplot(2,2,1)\n",
        "plt.plot(train_acc_arr, 'b')\n",
        "#plt.set_title(\"Accuracy plot\")\n",
        "plt.ylabel(\"Training Accuracy\")\n",
        "plt.xlabel(\"Number of Epochs\")\n",
        "\n",
        "plt.subplot(2,2,2)\n",
        "plt.plot(test_acc_arr, 'r')\n",
        "#plt.set_title(\"Accuracy plot\")\n",
        "plt.ylabel(\"Testing Accuracy\")\n",
        "plt.xlabel(\"Number of Epochs\")\n",
        "\n",
        "plt.subplot(2,2,3)\n",
        "plt.plot(train_loss_arr, 'b')\n",
        "#plt.set_title(\"Accuracy plot\")\n",
        "plt.ylabel(\"Training Loss\")\n",
        "plt.xlabel(\"Number of Epochs\")\n",
        "\n",
        "plt.subplot(2,2,4)\n",
        "plt.plot(test_loss_arr, 'r')\n",
        "#plt.set_title(\"Loss Plot\")\n",
        "plt.ylabel(\"Testing Loss\")\n",
        "plt.xlabel(\"Number of Epochs\")\n",
        "\n",
        "plt.tight_layout()\n",
        "plt.show()"
      ],
      "execution_count": 0,
      "outputs": [
        {
          "output_type": "display_data",
          "data": {
            "image/png": "[encoded data removed]",
            "text/plain": [
              "<matplotlib.figure.Figure at 0x7f7ee31f25c0>"
            ]
          },
          "metadata": {
            "tags": []
          }
        }
      ]
    },
    {
      "metadata": {
        "id": "hj_jVoKdlZzM",
        "colab_type": "code",
        "colab": {}
      },
      "cell_type": "code",
      "source": [
        "# Save the model checkpoint\n",
        "torch.save(model.state_dict(), 'model.ckpt')"
      ],
      "execution_count": 0,
      "outputs": []
    }
  ]
}