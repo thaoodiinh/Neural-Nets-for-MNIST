{
  "nbformat": 4,
  "nbformat_minor": 0,
  "metadata": {
    "colab": {
      "name": "Copy of All Deep Learning Models.ipynb",
      "version": "0.3.2",
      "provenance": [],
      "collapsed_sections": []
    },
    "kernelspec": {
      "name": "python3",
      "display_name": "Python 3"
    }
  },
  "cells": [
    {
      "metadata": {
        "id": "z_2aOs0L8V_3",
        "colab_type": "code",
        "outputId": "a45f4d41-f0e5-410c-c367-3a37fa7bdf8a",
        "colab": {
          "base_uri": "https://localhost:8080/",
          "height": 34
        }
      },
      "cell_type": "code",
      "source": [
        "# Install a Drive FUSE wrapper.\n",
        "# https://github.com/astrada/google-drive-ocamlfuse\n",
        "!apt-get install -y -qq software-properties-common python-software-properties module-init-tools\n",
        "!add-apt-repository -y ppa:alessandro-strada/ppa 2>&1 > /dev/null\n",
        "!apt-get update -qq 2>&1 > /dev/null\n",
        "!apt-get -y install -qq google-drive-ocamlfuse fuse"
      ],
      "execution_count": 93,
      "outputs": [
        {
          "output_type": "stream",
          "text": [
            "E: Package 'python-software-properties' has no installation candidate\n"
          ],
          "name": "stdout"
        }
      ]
    },
    {
      "metadata": {
        "id": "itxLflVFzvyo",
        "colab_type": "code",
        "colab": {}
      },
      "cell_type": "code",
      "source": [
        "# Generate auth tokens for Colab\n",
        "from google.colab import auth\n",
        "auth.authenticate_user()"
      ],
      "execution_count": 0,
      "outputs": []
    },
    {
      "metadata": {
        "id": "x9P63kwBzzPy",
        "colab_type": "code",
        "outputId": "64f87a73-7110-448d-821e-a6e713b64afd",
        "colab": {
          "base_uri": "https://localhost:8080/",
          "height": 34
        }
      },
      "cell_type": "code",
      "source": [
        "# Generate creds for the Drive FUSE library.\n",
        "from oauth2client.client import GoogleCredentials\n",
        "creds = GoogleCredentials.get_application_default()\n",
        "import getpass\n",
        "!google-drive-ocamlfuse -headless -id={creds.client_id} -secret={creds.client_secret} < /dev/null 2>&1 | grep URL\n",
        "vcode = getpass.getpass()\n",
        "!echo {vcode} | google-drive-ocamlfuse -headless -id={creds.client_id} -secret={creds.client_secret}"
      ],
      "execution_count": 95,
      "outputs": [
        {
          "output_type": "stream",
          "text": [
            "··········\n"
          ],
          "name": "stdout"
        }
      ]
    },
    {
      "metadata": {
        "id": "ofiJ6Yz30E7i",
        "colab_type": "code",
        "outputId": "d217dd78-4ab8-4964-a8c7-8ac05befb305",
        "colab": {
          "base_uri": "https://localhost:8080/",
          "height": 51
        }
      },
      "cell_type": "code",
      "source": [
        "# Create a directory and mount Google Drive using that directory.\n",
        "!mkdir -p drive\n",
        "!google-drive-ocamlfuse drive"
      ],
      "execution_count": 96,
      "outputs": [
        {
          "output_type": "stream",
          "text": [
            "fuse: mountpoint is not empty\n",
            "fuse: if you are sure this is safe, use the 'nonempty' mount option\n"
          ],
          "name": "stdout"
        }
      ]
    },
    {
      "metadata": {
        "id": "nJMUVmLp0HLT",
        "colab_type": "code",
        "colab": {}
      },
      "cell_type": "code",
      "source": [
        "# http://pytorch.org/\n",
        "from os import path\n",
        "from wheel.pep425tags import get_abbr_impl, get_impl_ver, get_abi_tag\n",
        "platform = '{}{}-{}'.format(get_abbr_impl(), get_impl_ver(), get_abi_tag())\n",
        "\n",
        "accelerator = 'cu80' if path.exists('/opt/bin/nvidia-smi') else 'cpu'\n",
        "\n",
        "!pip install -q http://download.pytorch.org/whl/{accelerator}/torch-0.4.0-{platform}-linux_x86_64.whl torchvision"
      ],
      "execution_count": 0,
      "outputs": []
    },
    {
      "metadata": {
        "id": "EneMMDElRmKN",
        "colab_type": "text"
      },
      "cell_type": "markdown",
      "source": [
        "# **Importing packages for all models**"
      ]
    },
    {
      "metadata": {
        "id": "RNwibkPO004o",
        "colab_type": "code",
        "colab": {}
      },
      "cell_type": "code",
      "source": [
        "import torch\n",
        "import torch.nn as nn\n",
        "import torchvision\n",
        "import torchvision.transforms as transforms\n",
        "import numpy as np\n",
        "import matplotlib.pyplot as plt\n",
        "from sklearn.metrics import confusion_matrix\n",
        "import seaborn as sn\n",
        "import pandas as pd\n",
        "import time"
      ],
      "execution_count": 0,
      "outputs": []
    },
    {
      "metadata": {
        "id": "n2OIocfiK2Xj",
        "colab_type": "code",
        "colab": {}
      },
      "cell_type": "code",
      "source": [
        "# Device configuration\n",
        "device = torch.device('cuda:0' if torch.cuda.is_available() else 'cpu')\n",
        "\n",
        "# Hyper parameters\n",
        "num_epochs = 60\n",
        "num_classes = 10\n",
        "batch_size = 100\n",
        "learning_rate = 0.001"
      ],
      "execution_count": 0,
      "outputs": []
    },
    {
      "metadata": {
        "id": "b9zdKm0y2tHo",
        "colab_type": "text"
      },
      "cell_type": "markdown",
      "source": [
        "# **Load MNIST Dataset**"
      ]
    },
    {
      "metadata": {
        "id": "1WIgGcdQ0-dx",
        "colab_type": "code",
        "colab": {}
      },
      "cell_type": "code",
      "source": [
        "def data_loader():\n",
        "  # MNIST dataset\n",
        "  train_dataset = torchvision.datasets.MNIST(root='../../data/',\n",
        "                                             train=True, \n",
        "                                             transform=transforms.ToTensor(),\n",
        "                                             download=True)\n",
        "\n",
        "  test_dataset = torchvision.datasets.MNIST(root='../../data/',\n",
        "                                            train=False, \n",
        "                                            transform=transforms.ToTensor())\n",
        "\n",
        "  # Data loader\n",
        "  train_loader = torch.utils.data.DataLoader(dataset=train_dataset,\n",
        "                                             batch_size=batch_size, \n",
        "                                             shuffle=True)\n",
        "\n",
        "  test_loader = torch.utils.data.DataLoader(dataset=test_dataset,\n",
        "                                            batch_size=batch_size, \n",
        "                                            shuffle=False)\n",
        "  return train_dataset, test_dataset, train_loader, test_loader\n"
      ],
      "execution_count": 0,
      "outputs": []
    },
    {
      "metadata": {
        "id": "A8l5IAQz3Xuf",
        "colab_type": "text"
      },
      "cell_type": "markdown",
      "source": [
        "# *Function to plot many figures at once*"
      ]
    },
    {
      "metadata": {
        "id": "l-b2oi1G3IlQ",
        "colab_type": "code",
        "colab": {}
      },
      "cell_type": "code",
      "source": [
        "def plot_figures(figures, nrows = 1, ncols=1):\n",
        "    \"\"\"Plot a dictionary of figures.\n",
        "\n",
        "    Parameters\n",
        "    ----------\n",
        "    figures : <title, figure> dictionary\n",
        "    ncols : number of columns of subplots wanted in the display\n",
        "    nrows : number of rows of subplots wanted in the figure\n",
        "    \"\"\"\n",
        "\n",
        "    fig, axeslist = plt.subplots(ncols=ncols, nrows=nrows)\n",
        "    for ind,title in enumerate(figures):\n",
        "        axeslist.ravel()[ind].imshow(figures[title], cmap=plt.gray())\n",
        "        axeslist.ravel()[ind].set_title(title)\n",
        "        axeslist.ravel()[ind].set_axis_off()\n",
        "    plt.tight_layout() # optional"
      ],
      "execution_count": 0,
      "outputs": []
    },
    {
      "metadata": {
        "id": "AEHxabwvJ9_M",
        "colab_type": "text"
      },
      "cell_type": "markdown",
      "source": [
        "#**Fully Connected Neural Network with one hidden layer**"
      ]
    },
    {
      "metadata": {
        "id": "820cT_cokIKM",
        "colab_type": "code",
        "colab": {}
      },
      "cell_type": "code",
      "source": [
        "train_dataset, test_dataset, train_loader, test_loader = data_loader()"
      ],
      "execution_count": 0,
      "outputs": []
    },
    {
      "metadata": {
        "id": "vC2-5lUKKBAg",
        "colab_type": "code",
        "colab": {}
      },
      "cell_type": "code",
      "source": [
        "# Fully connected neural network with one hidden layer\n",
        "class NeuralNet(nn.Module):\n",
        "    def __init__(self, input_size, hidden_size, num_classes):\n",
        "        super(NeuralNet, self).__init__()\n",
        "        self.fc1 = nn.Linear(input_size, hidden_size) \n",
        "        self.relu = nn.ReLU()\n",
        "        self.fc2 = nn.Linear(hidden_size, num_classes)  \n",
        "    \n",
        "    def forward(self, x):\n",
        "        out = self.fc1(x)\n",
        "        out = self.relu(out)\n",
        "        out = self.fc2(out)\n",
        "        return out\n"
      ],
      "execution_count": 0,
      "outputs": []
    },
    {
      "metadata": {
        "id": "TBE4rvBrhi0i",
        "colab_type": "text"
      },
      "cell_type": "markdown",
      "source": [
        "Number of Neurons for hidden layers can be adjusted below."
      ]
    },
    {
      "metadata": {
        "id": "JsdSUCqkKCVM",
        "colab_type": "code",
        "colab": {}
      },
      "cell_type": "code",
      "source": [
        "input_size = 784\n",
        "hidden_size = 32\n",
        "model = NeuralNet(input_size, hidden_size, num_classes).to(device)"
      ],
      "execution_count": 0,
      "outputs": []
    },
    {
      "metadata": {
        "id": "RvBWN-udKHjc",
        "colab_type": "code",
        "colab": {}
      },
      "cell_type": "code",
      "source": [
        "# Loss and optimizer\n",
        "criterion = nn.CrossEntropyLoss()\n",
        "optimizer = torch.optim.Adam(model.parameters(), lr=learning_rate)  "
      ],
      "execution_count": 0,
      "outputs": []
    },
    {
      "metadata": {
        "id": "U6UKKMdMKL-c",
        "colab_type": "code",
        "outputId": "d0936e96-a319-42b6-d994-db1caf285f79",
        "colab": {
          "base_uri": "https://localhost:8080/",
          "height": 1054
        }
      },
      "cell_type": "code",
      "source": [
        "# Train the model\n",
        "train_acc_arr= []\n",
        "train_loss_arr = []\n",
        "test_acc_arr = []\n",
        "test_loss_arr = []\n",
        "duration = []\n",
        "total_step = len(train_loader)\n",
        "for epoch in range(num_epochs):\n",
        "  t_start = time.time()\n",
        "  output_compiled= []\n",
        "  true_compiled = []\n",
        "  loss_compiled = []\n",
        "  for i, (images, labels) in enumerate(train_loader):  \n",
        "      # Move tensors to the configured device\n",
        "      images = images.reshape(-1, 28*28).to(device)\n",
        "      labels = labels.to(device)\n",
        "      true_compiled.extend(labels.to(device))\n",
        "\n",
        "\n",
        "      # Forward pass\n",
        "      outputs = model(images)\n",
        "      train_loss = criterion(outputs, labels)\n",
        "      loss_compiled.append(train_loss.data.data.item())\n",
        "\n",
        "      # Backward and optimize\n",
        "      optimizer.zero_grad()\n",
        "      train_loss.backward()\n",
        "      optimizer.step()\n",
        "\n",
        "      # Compute Accuracy\n",
        "      _,argmax = torch.max(outputs,1)\n",
        "      output_compiled.extend(argmax.squeeze())\n",
        "\n",
        "\n",
        "  t_duration = time.time()- t_start\n",
        "  duration.append(t_duration)\n",
        "  train_acc = (np.array(true_compiled) == np.array(output_compiled)).mean()\n",
        "  train_loss = np.array(loss_compiled).mean()\n",
        "  train_acc_arr.append(train_acc)\n",
        "  train_loss_arr.append(train_loss)\n",
        "  print('Epoch [{}/{}], Loss: {:.3f}, Accuracy: {:.3f}, Duration: {:.2f}'  \n",
        "        .format(epoch+1, num_epochs, train_loss, train_acc, t_duration))\n",
        "  \n",
        "  test_output_compiled = []\n",
        "  test_true_compiled = []\n",
        "  test_loss_compiled = []\n",
        "\n",
        "  for j, (test_images, test_labels) in enumerate(test_loader):\n",
        "      test_images = test_images.reshape(-1,28*28).to(device)\n",
        "      test_labels = test_labels.to(device)\n",
        "      test_true_compiled.extend(test_labels.to(device))\n",
        "\n",
        "      # Forward pass\n",
        "      test_outputs = model(test_images)\n",
        "      test_loss = criterion(test_outputs, test_labels)\n",
        "      test_loss_compiled.append(test_loss.data.data.item())\n",
        "\n",
        "      # Compute accuracy\n",
        "      _, argmax = torch.max(test_outputs, 1)\n",
        "      test_output_compiled.extend(argmax.squeeze())\n",
        "\n",
        "  test_acc = (np.array(test_true_compiled) == np.array(test_output_compiled)).mean()\n",
        "  test_acc_arr.append(test_acc)\n",
        "  test_loss_arr.append(np.array(test_loss_compiled).mean())\n",
        "print(sum(duration)/float(len(duration)))"
      ],
      "execution_count": 106,
      "outputs": [
        {
          "output_type": "stream",
          "text": [
            "Epoch [1/60], Loss: 0.511, Accuracy: 0.864, Duration: 10.40\n",
            "Epoch [2/60], Loss: 0.264, Accuracy: 0.924, Duration: 9.72\n",
            "Epoch [3/60], Loss: 0.220, Accuracy: 0.937, Duration: 9.18\n",
            "Epoch [4/60], Loss: 0.187, Accuracy: 0.946, Duration: 10.66\n",
            "Epoch [5/60], Loss: 0.163, Accuracy: 0.952, Duration: 11.74\n",
            "Epoch [6/60], Loss: 0.145, Accuracy: 0.957, Duration: 9.56\n",
            "Epoch [7/60], Loss: 0.131, Accuracy: 0.962, Duration: 9.23\n",
            "Epoch [8/60], Loss: 0.119, Accuracy: 0.965, Duration: 9.84\n",
            "Epoch [9/60], Loss: 0.110, Accuracy: 0.968, Duration: 9.91\n",
            "Epoch [10/60], Loss: 0.102, Accuracy: 0.969, Duration: 10.39\n",
            "Epoch [11/60], Loss: 0.095, Accuracy: 0.972, Duration: 10.00\n",
            "Epoch [12/60], Loss: 0.089, Accuracy: 0.974, Duration: 9.93\n",
            "Epoch [13/60], Loss: 0.084, Accuracy: 0.976, Duration: 10.46\n",
            "Epoch [14/60], Loss: 0.080, Accuracy: 0.977, Duration: 9.73\n",
            "Epoch [15/60], Loss: 0.076, Accuracy: 0.978, Duration: 9.59\n",
            "Epoch [16/60], Loss: 0.072, Accuracy: 0.979, Duration: 9.84\n",
            "Epoch [17/60], Loss: 0.068, Accuracy: 0.980, Duration: 10.71\n",
            "Epoch [18/60], Loss: 0.065, Accuracy: 0.981, Duration: 9.49\n",
            "Epoch [19/60], Loss: 0.062, Accuracy: 0.982, Duration: 10.14\n",
            "Epoch [20/60], Loss: 0.059, Accuracy: 0.982, Duration: 9.80\n",
            "Epoch [21/60], Loss: 0.056, Accuracy: 0.983, Duration: 9.95\n",
            "Epoch [22/60], Loss: 0.054, Accuracy: 0.983, Duration: 10.17\n",
            "Epoch [23/60], Loss: 0.051, Accuracy: 0.985, Duration: 9.88\n",
            "Epoch [24/60], Loss: 0.050, Accuracy: 0.985, Duration: 9.33\n",
            "Epoch [25/60], Loss: 0.047, Accuracy: 0.986, Duration: 9.71\n",
            "Epoch [26/60], Loss: 0.046, Accuracy: 0.987, Duration: 9.61\n",
            "Epoch [27/60], Loss: 0.043, Accuracy: 0.987, Duration: 9.27\n",
            "Epoch [28/60], Loss: 0.042, Accuracy: 0.988, Duration: 10.06\n",
            "Epoch [29/60], Loss: 0.040, Accuracy: 0.988, Duration: 10.31\n",
            "Epoch [30/60], Loss: 0.039, Accuracy: 0.989, Duration: 9.70\n",
            "Epoch [31/60], Loss: 0.037, Accuracy: 0.990, Duration: 9.90\n",
            "Epoch [32/60], Loss: 0.036, Accuracy: 0.990, Duration: 9.65\n",
            "Epoch [33/60], Loss: 0.034, Accuracy: 0.990, Duration: 9.99\n",
            "Epoch [34/60], Loss: 0.032, Accuracy: 0.991, Duration: 9.90\n",
            "Epoch [35/60], Loss: 0.032, Accuracy: 0.991, Duration: 9.54\n",
            "Epoch [36/60], Loss: 0.030, Accuracy: 0.992, Duration: 9.39\n",
            "Epoch [37/60], Loss: 0.029, Accuracy: 0.992, Duration: 9.87\n",
            "Epoch [38/60], Loss: 0.027, Accuracy: 0.992, Duration: 10.09\n",
            "Epoch [39/60], Loss: 0.026, Accuracy: 0.993, Duration: 9.73\n",
            "Epoch [40/60], Loss: 0.026, Accuracy: 0.993, Duration: 9.91\n",
            "Epoch [41/60], Loss: 0.025, Accuracy: 0.993, Duration: 9.93\n",
            "Epoch [42/60], Loss: 0.024, Accuracy: 0.993, Duration: 9.68\n",
            "Epoch [43/60], Loss: 0.023, Accuracy: 0.994, Duration: 9.37\n",
            "Epoch [44/60], Loss: 0.022, Accuracy: 0.994, Duration: 9.70\n",
            "Epoch [45/60], Loss: 0.021, Accuracy: 0.995, Duration: 9.80\n",
            "Epoch [46/60], Loss: 0.020, Accuracy: 0.995, Duration: 9.03\n",
            "Epoch [47/60], Loss: 0.019, Accuracy: 0.995, Duration: 9.38\n",
            "Epoch [48/60], Loss: 0.019, Accuracy: 0.995, Duration: 9.49\n",
            "Epoch [49/60], Loss: 0.018, Accuracy: 0.995, Duration: 10.04\n",
            "Epoch [50/60], Loss: 0.017, Accuracy: 0.996, Duration: 9.74\n",
            "Epoch [51/60], Loss: 0.017, Accuracy: 0.996, Duration: 9.59\n",
            "Epoch [52/60], Loss: 0.015, Accuracy: 0.996, Duration: 9.49\n",
            "Epoch [53/60], Loss: 0.015, Accuracy: 0.996, Duration: 9.93\n",
            "Epoch [54/60], Loss: 0.015, Accuracy: 0.996, Duration: 10.17\n",
            "Epoch [55/60], Loss: 0.014, Accuracy: 0.997, Duration: 9.92\n",
            "Epoch [56/60], Loss: 0.013, Accuracy: 0.997, Duration: 9.59\n",
            "Epoch [57/60], Loss: 0.013, Accuracy: 0.997, Duration: 9.81\n",
            "Epoch [58/60], Loss: 0.012, Accuracy: 0.997, Duration: 9.84\n",
            "Epoch [59/60], Loss: 0.012, Accuracy: 0.997, Duration: 9.34\n",
            "Epoch [60/60], Loss: 0.012, Accuracy: 0.997, Duration: 9.48\n",
            "9.826834213733672\n"
          ],
          "name": "stdout"
        }
      ]
    },
    {
      "metadata": {
        "id": "9ifw1yCXKUui",
        "colab_type": "code",
        "outputId": "ae324550-4e5d-4297-e777-3b10c1e0a479",
        "colab": {
          "base_uri": "https://localhost:8080/",
          "height": 34
        }
      },
      "cell_type": "code",
      "source": [
        "# Test the model\n",
        "# In test phase, we don't need to compute gradients (for memory efficiency)\n",
        "with torch.no_grad():\n",
        "    correct = 0\n",
        "    total = 0\n",
        "    all_right_images = []\n",
        "    all_wrong_images = []\n",
        "    all_right_labels = []\n",
        "    all_wrong_labels = []\n",
        "    all_right_predicted = []\n",
        "    all_wrong_predicted = []\n",
        "    \n",
        "    for images, labels in test_loader:\n",
        "        images = images.reshape(-1, 28*28).to(device)\n",
        "        labels = labels.to(device)\n",
        "        outputs = model(images)\n",
        "        _, predicted = torch.max(outputs.data, 1)\n",
        "        total += labels.size(0)\n",
        "        correct += (predicted == labels).sum().item()\n",
        "        \n",
        "        for i in range(len(predicted)):\n",
        "            image_reshape = images[i].reshape(28,28)\n",
        "            if predicted[i] != labels[i]:\n",
        "                all_wrong_images.append(image_reshape)\n",
        "                all_wrong_labels.append(labels[i].data.item())\n",
        "                all_wrong_predicted.append(predicted[i].data.item())\n",
        "            elif predicted[i] == labels[i]:\n",
        "                all_right_images.append(image_reshape)\n",
        "                all_right_labels.append(labels[i].data.item())\n",
        "                all_right_predicted.append(predicted[i].data.item())\n",
        "                \n",
        "    print('Accuracy of the network on the 10000 test images: {} %'.format(100 * correct / total))\n"
      ],
      "execution_count": 107,
      "outputs": [
        {
          "output_type": "stream",
          "text": [
            "Accuracy of the network on the 10000 test images: 96.68 %\n"
          ],
          "name": "stdout"
        }
      ]
    },
    {
      "metadata": {
        "id": "g56Bx3o7KYCI",
        "colab_type": "code",
        "outputId": "d13ff7ae-a62c-413b-ba0d-25eadf8bbf0e",
        "colab": {
          "base_uri": "https://localhost:8080/",
          "height": 322
        }
      },
      "cell_type": "code",
      "source": [
        "# Plot the some correct images\n",
        "import random\n",
        "number_of_im = 10\n",
        "right_figures = {}\n",
        "right_index = random.sample(range(0,len(all_right_images)-1),number_of_im)\n",
        "ID = 0\n",
        "for i in right_index:\n",
        "    #index = np.random.randint(0,len(all_right_images)-1)\n",
        "    #print(index)\n",
        "    right_figures[str(ID) + \":\" + \"L=\" + str(all_right_labels[i]) + \" P=\" + str(all_right_predicted[i])] = all_right_images[i]\n",
        "    ID +=1\n",
        "# plot of the images in a figure, with 2 rows and 3 columns\n",
        "plot_figures(right_figures, 2, 5)"
      ],
      "execution_count": 108,
      "outputs": [
        {
          "output_type": "display_data",
          "data": {
            "image/png": "[encoded data removed]",
            "text/plain": [
              "<matplotlib.figure.Figure at 0x7f9b9177e630>"
            ]
          },
          "metadata": {
            "tags": []
          }
        }
      ]
    },
    {
      "metadata": {
        "id": "nwE5sw1dKY0c",
        "colab_type": "code",
        "outputId": "eb617194-3abb-40fd-9da5-978cd0e6887b",
        "colab": {
          "base_uri": "https://localhost:8080/",
          "height": 322
        }
      },
      "cell_type": "code",
      "source": [
        "# Plot the some wrong images\n",
        "number_of_im = 10\n",
        "wrong_figures = {}\n",
        "wrong_index = random.sample(range(0,len(all_wrong_images)-1),number_of_im)\n",
        "ID = 0\n",
        "for i in wrong_index:\n",
        "    wrong_figures[str(ID) + \":\" + \"L=\" + str(all_wrong_labels[i]) + \" P=\" + str(all_wrong_predicted[i])] = all_wrong_images[i]\n",
        "    ID +=1\n",
        "# plot of the images in a figure, with 2 rows and 3 columns\n",
        "plot_figures(wrong_figures, 2, 5)"
      ],
      "execution_count": 109,
      "outputs": [
        {
          "output_type": "display_data",
          "data": {
            "image/png": "[encoded data removed]",
            "text/plain": [
              "<matplotlib.figure.Figure at 0x7f9b8d4fd4a8>"
            ]
          },
          "metadata": {
            "tags": []
          }
        }
      ]
    },
    {
      "metadata": {
        "id": "KqgvYHHrKhYY",
        "colab_type": "code",
        "outputId": "7ad45b9f-45c1-4def-bf48-3da45a0ed424",
        "colab": {
          "base_uri": "https://localhost:8080/",
          "height": 401
        }
      },
      "cell_type": "code",
      "source": [
        "#PLotting accuracy and loss\n",
        "plt.subplot(2,2,1)\n",
        "plt.plot(train_acc_arr, 'b')\n",
        "#plt.set_title(\"Accuracy plot\")\n",
        "plt.ylabel(\"Training Accuracy\")\n",
        "plt.xlabel(\"Number of Epochs\")\n",
        "\n",
        "plt.subplot(2,2,2)\n",
        "plt.plot(test_acc_arr, 'r')\n",
        "#plt.set_title(\"Accuracy plot\")\n",
        "plt.ylabel(\"Testing Accuracy\")\n",
        "plt.xlabel(\"Number of Epochs\")\n",
        "\n",
        "plt.subplot(2,2,3)\n",
        "plt.plot(train_loss_arr, 'b')\n",
        "#plt.set_title(\"Accuracy plot\")\n",
        "plt.ylabel(\"Training Loss\")\n",
        "plt.xlabel(\"Number of Epochs\")\n",
        "\n",
        "plt.subplot(2,2,4)\n",
        "plt.plot(test_loss_arr, 'r')\n",
        "#plt.set_title(\"Loss Plot\")\n",
        "plt.ylabel(\"Testing Loss\")\n",
        "plt.xlabel(\"Number of Epochs\")\n",
        "\n",
        "plt.tight_layout()\n",
        "plt.show()"
      ],
      "execution_count": 110,
      "outputs": [
        {
          "output_type": "display_data",
          "data": {
            "image/png": "[encoded data removed]",
            "text/plain": [
              "<matplotlib.figure.Figure at 0x7f9b8d040c18>"
            ]
          },
          "metadata": {
            "tags": []
          }
        }
      ]
    },
    {
      "metadata": {
        "id": "GknsW-czN4_P",
        "colab_type": "code",
        "outputId": "483d2ca4-e435-49bc-b26b-90e7e29a7175",
        "colab": {
          "base_uri": "https://localhost:8080/",
          "height": 609
        }
      },
      "cell_type": "code",
      "source": [
        "# Heat map for FC one hidden layers\n",
        "all_labels = all_right_labels + all_wrong_labels\n",
        "all_predicted = all_right_predicted + all_wrong_predicted\n",
        "\n",
        "mat = confusion_matrix(all_labels, all_predicted)\n",
        "\n",
        "label_predict = pd.DataFrame(mat, range(10),range(10))\n",
        "# sn.set(font_scale=1.2) #for label size\n",
        "plt.figure(figsize=(10, 10))\n",
        "sn.heatmap(label_predict, annot=True,fmt='g')"
      ],
      "execution_count": 111,
      "outputs": [
        {
          "output_type": "execute_result",
          "data": {
            "text/plain": [
              "<matplotlib.axes._subplots.AxesSubplot at 0x7f9b8cfb2e48>"
            ]
          },
          "metadata": {
            "tags": []
          },
          "execution_count": 111
        },
        {
          "output_type": "display_data",
          "data": {
            "image/png": "[encoded data removed]",
            "text/plain": [
              "<matplotlib.figure.Figure at 0x7f9b8cdfd748>"
            ]
          },
          "metadata": {
            "tags": []
          }
        }
      ]
    },
    {
      "metadata": {
        "id": "Zp9PQ4CSKldP",
        "colab_type": "code",
        "colab": {}
      },
      "cell_type": "code",
      "source": [
        "# Save the model checkpoint\n",
        "torch.save(model.state_dict(), 'model.ckpt')"
      ],
      "execution_count": 0,
      "outputs": []
    }
  ]
}